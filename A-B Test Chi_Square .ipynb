{
 "cells": [
  {
   "cell_type": "markdown",
   "metadata": {},
   "source": [
    "# A/B Test on Ads"
   ]
  },
  {
   "cell_type": "markdown",
   "metadata": {},
   "source": [
    "An A/B test will be conducted on the following dataset I pulled from Kaggle. "
   ]
  },
  {
   "cell_type": "code",
   "execution_count": 2,
   "metadata": {},
   "outputs": [
    {
     "name": "stdout",
     "output_type": "stream",
     "text": [
      "                             auction_id experiment        date  hour  \\\n",
      "0  0008ef63-77a7-448b-bd1e-075f42c55e39    exposed  2020-07-10     8   \n",
      "1  000eabc5-17ce-4137-8efe-44734d914446    exposed  2020-07-07    10   \n",
      "2  0016d14a-ae18-4a02-a204-6ba53b52f2ed    exposed  2020-07-05     2   \n",
      "3  00187412-2932-4542-a8ef-3633901c98d9    control  2020-07-03    15   \n",
      "4  001a7785-d3fe-4e11-a344-c8735acacc2c    control  2020-07-03    15   \n",
      "\n",
      "          device_make  platform_os                browser  yes  no  \n",
      "0  Generic Smartphone            6          Chrome Mobile    0   0  \n",
      "1  Generic Smartphone            6          Chrome Mobile    0   0  \n",
      "2               E5823            6  Chrome Mobile WebView    0   1  \n",
      "3   Samsung SM-A705FN            6               Facebook    0   0  \n",
      "4  Generic Smartphone            6          Chrome Mobile    0   0  \n",
      "auction_id     object\n",
      "experiment     object\n",
      "date           object\n",
      "hour            int64\n",
      "device_make    object\n",
      "platform_os     int64\n",
      "browser        object\n",
      "yes             int64\n",
      "no              int64\n",
      "dtype: object\n"
     ]
    }
   ],
   "source": [
    "import numpy as np\n",
    "import pandas as pd\n",
    "from scipy.stats import chi2_contingency\n",
    "import matplotlib.pyplot as plt\n",
    "\n",
    "df = pd.read_csv('AdSmartABd.csv')\n",
    "print(df.head(5))\n",
    "print(df.dtypes)"
   ]
  },
  {
   "cell_type": "markdown",
   "metadata": {},
   "source": [
    " It looks like the A/B test will be performed on the 'exposed' v. the 'control' versions of the experiment. I organized the data into a matrix for further insight."
   ]
  },
  {
   "cell_type": "code",
   "execution_count": 3,
   "metadata": {},
   "outputs": [
    {
     "name": "stdout",
     "output_type": "stream",
     "text": [
      "             yes    no\n",
      "experiment            \n",
      "control     4071  4071\n",
      "exposed     4006  4006\n",
      "yes    8077\n",
      "no     8077\n",
      "dtype: int64\n",
      "            yes   no\n",
      "experiment          \n",
      "control     264  322\n",
      "exposed     308  349\n"
     ]
    },
    {
     "data": {
      "image/png": "[encoded data removed]",
      "text/plain": [
       "<Figure size 432x288 with 1 Axes>"
      ]
     },
     "metadata": {
      "needs_background": "light"
     },
     "output_type": "display_data"
    }
   ],
   "source": [
    "print(df.groupby('experiment')[['yes', 'no']].count())\n",
    "print(df.groupby('experiment').count()[['yes', 'no']].sum())\n",
    "\n",
    "print(df.groupby('experiment')[['yes', 'no']].sum())\n",
    "cats = df.groupby(['experiment', 'yes', 'no']).size()\n",
    "ax = cats.plot.bar(rot=60)"
   ]
  },
  {
   "cell_type": "markdown",
   "metadata": {},
   "source": [
    "The dataset distinguishes between whether the 'control' and 'exposed' version of the experiment had the user click either yes or no."
   ]
  },
  {
   "cell_type": "code",
   "execution_count": 4,
   "metadata": {
    "scrolled": true
   },
   "outputs": [
    {
     "data": {
      "image/png": "[encoded data removed]",
      "text/plain": [
       "<Figure size 432x288 with 1 Axes>"
      ]
     },
     "metadata": {
      "needs_background": "light"
     },
     "output_type": "display_data"
    }
   ],
   "source": [
    "dog = df.groupby('experiment')[['yes', 'no']].sum()\n",
    "ax = dog.plot.bar(rot=60)\n",
    "plt.show()"
   ]
  },
  {
   "cell_type": "markdown",
   "metadata": {},
   "source": [
    "For simplicity, I'll only consider the level of engagement with the different ads. Engagement will consist of seeing and click the on the ad (whether yes or no) and non-engagement (not clicking on the ad). "
   ]
  },
  {
   "cell_type": "code",
   "execution_count": 6,
   "metadata": {},
   "outputs": [
    {
     "data": {
      "text/plain": [
       "array([<AxesSubplot:ylabel='experiment'>], dtype=object)"
      ]
     },
     "execution_count": 6,
     "metadata": {},
     "output_type": "execute_result"
    },
    {
     "data": {
      "image/png": "[encoded data removed]",
      "text/plain": [
       "<Figure size 360x360 with 1 Axes>"
      ]
     },
     "metadata": {},
     "output_type": "display_data"
    }
   ],
   "source": [
    "df['experiment'].value_counts().plot.pie(subplots=True, y='ad experiment', figsize=(5,5))"
   ]
  },
  {
   "cell_type": "markdown",
   "metadata": {},
   "source": [
    "Although there's more factors to consider (hour of ad engagement, platform on which ad was engaged, etc.) I'll only be running a significance (chi-squared) test on the engagement between the \"control\" and \"exposed\" versions of the ads. That is, I'll consider both \"yes\" and \"no\" as engagement and sum both to measure the level of engagement.\n",
    "\n",
    "First, I need to clean the data. Luckily, this data is already well suited for analysis. Nevertheless, I'll need to for duplicates in the auction_id to remove any double counting."
   ]
  },
  {
   "cell_type": "code",
   "execution_count": 17,
   "metadata": {},
   "outputs": [
    {
     "name": "stdout",
     "output_type": "stream",
     "text": [
      "The number of duplicate enteries is 0\n"
     ]
    }
   ],
   "source": [
    "df[df.duplicated(['auction_id'], keep=False,)]['auction_id']\n",
    "print('The number of duplicate enteries is ' + str(df['auction_id'].duplicated().sum()))"
   ]
  },
  {
   "cell_type": "markdown",
   "metadata": {},
   "source": [
    "Luckily, there weren't any duplicates in the data. I can now move onto the analysis. I'll select a standard p = .05 significance threshold to determine if there is a differnece in the two ads. The test is as follows:\n",
    "\n",
    "h0 (null hypothesis): There is no significant difference in the engagement between both ads \n",
    "\n",
    "h1 (alternative hypothesis): Fail to reject that there is no significance in the engagement between both ads."
   ]
  },
  {
   "cell_type": "markdown",
   "metadata": {},
   "source": [
    "First, I'll make 2x2 matrix to insert into the chi-square test. I'll call the matrix F."
   ]
  },
  {
   "cell_type": "code",
   "execution_count": 7,
   "metadata": {},
   "outputs": [
    {
     "name": "stdout",
     "output_type": "stream",
     "text": [
      "[[586 4071]\n",
      " [657 4006]]\n"
     ]
    }
   ],
   "source": [
    "yes_cont = df.loc[df['experiment'] == 'control', 'yes'].sum()\n",
    "no_cont = df.loc[df['experiment'] == 'control', 'no'].sum()\n",
    "df_cont_clicked = yes_cont + no_cont\n",
    "\n",
    "\n",
    "yes_exp = df.loc[df['experiment'] == 'exposed', 'yes'].sum()\n",
    "no_exp = df.loc[df['experiment'] == 'exposed', 'no'].sum()\n",
    "df_exp_clicked = yes_exp + no_exp\n",
    "\n",
    "df_exp = df.experiment\n",
    "df_cont_total = df_exp.loc[df['experiment'] == 'control'].count()\n",
    "df_exp_total = df_exp.loc[df['experiment'] == 'exposed'].count()\n",
    "\n",
    "\n",
    "F = np.array([[df_cont_clicked, df_cont_total], [df_exp_clicked, df_exp_total]], dtype=object)\n",
    "print(F)"
   ]
  },
  {
   "cell_type": "markdown",
   "metadata": {},
   "source": [
    "Finally, the Chi-Squared test."
   ]
  },
  {
   "cell_type": "code",
   "execution_count": 15,
   "metadata": {},
   "outputs": [
    {
     "name": "stdout",
     "output_type": "stream",
     "text": [
      "0.03\n",
      "After running the Chi-Squared test, the test determined that the pval is: 0.03\n"
     ]
    }
   ],
   "source": [
    "chi2, pval, dof, expected = chi2_contingency(F)\n",
    "adj_pval = round(pval, 2)\n",
    "print(adj_pval)\n",
    "print('After running the Chi-Squared test, the test determined that the pval is: ' + str(adj_pval))"
   ]
  },
  {
   "cell_type": "markdown",
   "metadata": {},
   "source": [
    "Because our adjusted p-value is less than our significance threshold, .03 < .05, we conclude that we fail to reject that there is no significance in the engagement between both ads."
   ]
  }
 ],
 "metadata": {
  "kernelspec": {
   "display_name": "Python 3",
   "language": "python",
   "name": "python3"
  },
  "language_info": {
   "codemirror_mode": {
    "name": "ipython",
    "version": 3
   },
   "file_extension": ".py",
   "mimetype": "text/x-python",
   "name": "python",
   "nbconvert_exporter": "python",
   "pygments_lexer": "ipython3",
   "version": "3.8.5"
  }
 },
 "nbformat": 4,
 "nbformat_minor": 4
}
